{
 "cells": [
  {
   "cell_type": "code",
   "execution_count": null,
   "metadata": {
    "colab": {},
    "colab_type": "code",
    "id": "6YVx-aC68sfb"
   },
   "outputs": [],
   "source": [
    "import torch\n",
    "import torch.backends.cudnn as cudnn\n",
    "import torch.nn as nn\n",
    "import torch.optim as optim\n",
    "from torch.utils.data import Dataset\n",
    "import numpy as np\n",
    "import torchvision\n",
    "from torchvision import datasets, models, transforms\n",
    "import skorch\n",
    "from skorch.classifier import NeuralNetClassifier\n",
    "import pickle"
   ]
  },
  {
   "cell_type": "code",
   "execution_count": null,
   "metadata": {
    "colab": {},
    "colab_type": "code",
    "id": "f5YqAid78sfy"
   },
   "outputs": [],
   "source": [
    "# Load data\n",
    "train_imgs = pickle.load(open('train_images_512.pk','rb'), encoding='bytes')\n",
    "train_labels = pickle.load(open('train_labels_512.pk','rb'), encoding='bytes')\n",
    "test_imgs = pickle.load(open('test_images_512.pk','rb'), encoding='bytes')"
   ]
  },
  {
   "cell_type": "code",
   "execution_count": null,
   "metadata": {
    "colab": {},
    "colab_type": "code",
    "id": "CMfXI7DX8sgj"
   },
   "outputs": [],
   "source": [
    "# Load pre-trained DenseNet121 model\n",
    "class DenseNet121(nn.Module):\n",
    "\n",
    "    def __init__(self, classCount, isTrained):\n",
    "\n",
    "        super(DenseNet121, self).__init__()\n",
    "\n",
    "        self.densenet121 = torchvision.models.densenet121(pretrained=isTrained)\n",
    "\n",
    "        kernelCount = self.densenet121.classifier.in_features\n",
    "\n",
    "        # This is changed later from the CheXNet classifier to a covid classifier\n",
    "        self.densenet121.classifier = nn.Sequential(nn.Linear(kernelCount, classCount), nn.Sigmoid())\n",
    "\n",
    "    def forward(self, x):\n",
    "        x = self.densenet121(x)\n",
    "        return x"
   ]
  },
  {
   "cell_type": "code",
   "execution_count": null,
   "metadata": {
    "colab": {
     "base_uri": "https://localhost:8080/",
     "height": 100,
     "referenced_widgets": [
      "16b39531506b4baca4af76942add4c57",
      "2433a718b45149b09953bb1b4527476a",
      "78fb6c2d314741e5b90ab71a2bccf9bd",
      "9c17b32a1d16404b909d6c2e0f37bdfd",
      "a6dc4897946a43e0bfe13e8dd13d2b28",
      "b21aab44cbf346deb28150fe225d8f3e",
      "3a5e6e176b0b4e7585f8cb880e812db5",
      "e8001637f8264febbfb2bd74a15cb0dc"
     ]
    },
    "colab_type": "code",
    "id": "xs7YjbsY8sg1",
    "outputId": "ff7e1556-66ca-4cc4-f8eb-f0c95f36c533"
   },
   "outputs": [],
   "source": [
    "# Allows cuda to find the best algorithm for the hardware\n",
    "cudnn.benchmark = True\n",
    "\n",
    "# Load the model for CheXNet\n",
    "model = torch.nn.DataParallel(DenseNet121(14, True).cuda()).cuda()\n",
    "\n",
    "# Load the weights for CheXNet\n",
    "modelCheckpoint = torch.load('m-25012018-123527.pth.tar')\n",
    "\n",
    "state_dict = modelCheckpoint['state_dict']\n",
    "\n",
    "# Fix incompatibility between keys\n",
    "import re\n",
    "p = re.compile(\"(\\.)(?=\\d)\")\n",
    "\n",
    "new_state_dict = {}\n",
    "for key, value in state_dict.items():\n",
    "  if key == \"module.densenet121.classifier.0.weight\":\n",
    "    new_key = key\n",
    "  elif key == \"module.densenet121.classifier.0.bias\":\n",
    "    new_key = key\n",
    "  else:\n",
    "    new_key = p.sub(\"\",key)\n",
    "  new_state_dict[new_key] = value\n",
    "\n",
    "model.load_state_dict(new_state_dict)\n"
   ]
  },
  {
   "cell_type": "code",
   "execution_count": null,
   "metadata": {
    "colab": {},
    "colab_type": "code",
    "id": "Vsg5gOZDut8G"
   },
   "outputs": [],
   "source": [
    " # Freeze all paramaters \n",
    " # Uncomment to train only last layer of the net\n",
    "\n",
    " #for param in model.parameters():\n",
    " #   param.requires_grad = False\n",
    " \n",
    " # Replacing last (classification) layer to have correct number of classes\n",
    " # This resets param.requires_grad = False for the last layer,\n",
    " # allowing it to be trained alone if the above code is uncommented\n",
    "\n",
    "model.module.densenet121.classifier = nn.Sequential(nn.Linear(in_features=1024, out_features=2), nn.Sequential())"
   ]
  },
  {
   "cell_type": "code",
   "execution_count": null,
   "metadata": {
    "colab": {},
    "colab_type": "code",
    "id": "WhFOMxdo9QOl"
   },
   "outputs": [],
   "source": [
    "# Perform the same transformations and normalization on the data as was \n",
    "# used in CheXNet\n",
    "\n",
    "transResize = 256\n",
    "transCrop = 224     \n",
    "\n",
    "normalize = transforms.Normalize([0.485, 0.456, 0.406], [0.229, 0.224, 0.225])\n",
    "        \n",
    "transformList = []\n",
    "transformList.append(transforms.RandomResizedCrop(transCrop))\n",
    "transformList.append(transforms.RandomHorizontalFlip())\n",
    "transformList.append(transforms.ToTensor())\n",
    "transformList.append(normalize)      \n",
    "transformSequence=transforms.Compose(transformList)\n",
    "\n",
    "# Define custom Dataset for the training data to apply transformations\n",
    "class CovidDatasetTrainTransforms(Dataset):\n",
    "    \"\"\"Covid chest scans training dataset.\"\"\"\n",
    "\n",
    "    def __init__(self, imgs, labels, transform=transformSequence):\n",
    "        self.imgs = imgs\n",
    "        self.labels = labels\n",
    "        self.transform = transform\n",
    "\n",
    "    def __len__(self):\n",
    "        return len(self.labels)\n",
    "\n",
    "    def __getitem__(self, idx):\n",
    "        imgs = self.imgs\n",
    "        if self.transform != None: imageData = self.transform(transforms.ToPILImage()(imgs[idx]))\n",
    "        return imgs[idx], self.labels[idx]\n"
   ]
  },
  {
   "cell_type": "code",
   "execution_count": null,
   "metadata": {
    "colab": {},
    "colab_type": "code",
    "id": "BHA3cKuWhlL8"
   },
   "outputs": [],
   "source": [
    "# Parameters to play with: https://skorch.readthedocs.io/en/stable/user/neuralnet.html\n",
    "# Used NeuralNetClassifier to perform CV with skorch\n",
    "net = NeuralNetClassifier(\n",
    "    model.module,\n",
    "    criterion=nn.CrossEntropyLoss,\n",
    "    optimizer=optim.SGD,\n",
    "    optimizer__momentum=0,\n",
    "    lr=0.001,         # Relatively low learning rate to maintain weights found by CheXNet\n",
    "    max_epochs=750,   # Region found to have the best validation error\n",
    "    batch_size=20,    # Set as high a colab will allow to reduce stocasticity in gradients - may need to restart run to get better cpu\n",
    "    iterator_train__shuffle=True,\n",
    "    train_split=None, # Set to None for final training of the whole data set - use skorch.dataset.CVSplit(5) for CV\n",
    "    device='cuda'\n",
    ")"
   ]
  },
  {
   "cell_type": "code",
   "execution_count": null,
   "metadata": {
    "colab": {
     "base_uri": "https://localhost:8080/",
     "height": 327
    },
    "colab_type": "code",
    "id": "hlwN6ZUD2k0J",
    "outputId": "77e96a0d-5dc4-4185-8627-2f7bb8e5b9b7"
   },
   "outputs": [],
   "source": [
    "# Train the model\n",
    "net.fit(CovidDatasetTrainTransforms(train_imgs, train_labels), y=None) "
   ]
  },
  {
   "cell_type": "code",
   "execution_count": null,
   "metadata": {
    "colab": {
     "base_uri": "https://localhost:8080/",
     "height": 34
    },
    "colab_type": "code",
    "id": "O0NJaxAR-D-r",
    "outputId": "ffa5338c-383a-4319-ad77-7d9cf17a5e15"
   },
   "outputs": [],
   "source": [
    "# Predict labels\n",
    "net.predict(test_imgs)"
   ]
  },
  {
   "cell_type": "code",
   "execution_count": null,
   "metadata": {
    "colab": {
     "base_uri": "https://localhost:8080/",
     "height": 357
    },
    "colab_type": "code",
    "id": "vGnHQA9-5uYp",
    "outputId": "24b1a0c8-4afd-4d6c-fe1f-e80a9500996e"
   },
   "outputs": [],
   "source": [
    "# Return prediction probabilities to adjust threshold\n",
    "net.predict_proba(test_imgs)"
   ]
  },
  {
   "cell_type": "code",
   "execution_count": null,
   "metadata": {
    "colab": {},
    "colab_type": "code",
    "id": "lqPdNqED6IRr"
   },
   "outputs": [],
   "source": [
    "# Results of six runs\n",
    "l1 = [1, 1, 1, 1, 1, 1, 1, 0, 1, 1, 1, 1, 1, 1, 1, 0, 1, 1, 1, 1]\n",
    "l2 = [1, 1, 1, 1, 1, 1, 1, 1, 1, 1, 1, 1, 1, 1, 1, 0, 1, 1, 1, 1]\n",
    "l3 = [1, 1, 1, 1, 1, 1, 1, 1, 1, 1, 1, 1, 1, 1, 1, 1, 1, 1, 1, 1]\n",
    "l4 = [0, 0, 1, 1, 1, 1, 1, 0, 1, 1, 0, 1, 0, 1, 1, 0, 1, 1, 1, 1]\n",
    "l5 = [1, 1, 1, 1, 1, 1, 1, 1, 1, 1, 1, 1, 1, 1, 1, 1, 1, 1, 1, 1]\n",
    "l6 = [1, 1, 1, 1, 1, 1, 1, 1, 1, 1, 1, 1, 1, 1, 1, 1, 1, 1, 1, 1]\n",
    "\n",
    "p1 = np.array([[-0.27811393,  0.14735694],\n",
    "       [-0.31309873,  0.31708255],\n",
    "       [-1.645754  ,  1.8220613 ],\n",
    "       [-2.024819  ,  2.2430968 ],\n",
    "       [-2.1563482 ,  2.3367486 ],\n",
    "       [-3.0071325 ,  3.6435819 ],\n",
    "       [-1.1942502 ,  1.325249  ],\n",
    "       [ 0.08353306, -0.18525176],\n",
    "       [-0.44969025,  0.42628393],\n",
    "       [-3.2869964 ,  3.7485967 ],\n",
    "       [-1.5691644 ,  1.6424458 ],\n",
    "       [-0.80113155,  0.84656566],\n",
    "       [-0.31289968,  0.2370822 ],\n",
    "       [-1.5189306 ,  1.715897  ],\n",
    "       [-2.802221  ,  3.2429638 ],\n",
    "       [ 0.0137746 , -0.07757613],\n",
    "       [-2.841208  ,  3.2509167 ],\n",
    "       [-3.3783474 ,  3.8599539 ],\n",
    "       [-1.7117329 ,  1.9713236 ],\n",
    "       [-0.45359203,  0.48920602]])\n",
    "p2 = np.array([[-1.2749506 ,  1.0391239 ],\n",
    "       [-1.900973  ,  1.9431375 ],\n",
    "       [-2.5834403 ,  2.681222  ],\n",
    "       [-1.4890026 ,  1.4130588 ],\n",
    "       [-3.5990112 ,  3.9035232 ],\n",
    "       [-6.6630864 ,  7.079091  ],\n",
    "       [-4.0231423 ,  4.281615  ],\n",
    "       [-1.5663888 ,  1.6640311 ],\n",
    "       [-2.9456632 ,  2.81032   ],\n",
    "       [-6.8810472 ,  7.2846017 ],\n",
    "       [-1.9778112 ,  1.8363433 ],\n",
    "       [-0.6686553 ,  0.43312752],\n",
    "       [-0.1640156 , -0.06224612],\n",
    "       [-2.4926245 ,  2.6010714 ],\n",
    "       [-4.0785923 ,  4.278558  ],\n",
    "       [ 0.06012314, -0.2652411 ],\n",
    "       [-4.0402765 ,  4.1026406 ],\n",
    "       [-3.7486196 ,  4.107744  ],\n",
    "       [-0.93817925,  0.82568735],\n",
    "       [-3.3648107 ,  3.5886166 ]])\n",
    "p3 = np.array([[-1.2306907 ,  0.56224006],\n",
    "       [-1.0445266 ,  0.5948984 ],\n",
    "       [-2.5809722 ,  2.4847565 ],\n",
    "       [-0.7480598 , -0.08442096],\n",
    "       [-1.7244426 ,  1.0858076 ],\n",
    "       [-0.92488146,  0.25149146],\n",
    "       [-1.6521794 ,  1.1366856 ],\n",
    "       [-1.3261532 ,  0.98897165],\n",
    "       [-1.6935257 ,  1.1551778 ],\n",
    "       [-3.2475042 ,  2.8874002 ],\n",
    "       [-1.5037724 ,  1.3778486 ],\n",
    "       [-1.5310456 ,  1.5377936 ],\n",
    "       [-1.060547  ,  0.16646525],\n",
    "       [-1.545185  ,  1.1831194 ],\n",
    "       [-1.6743516 ,  1.6942255 ],\n",
    "       [-1.330892  ,  1.205843  ],\n",
    "       [-2.9033842 ,  2.721028  ],\n",
    "       [-2.1217332 ,  2.112975  ],\n",
    "       [-1.2982858 ,  0.74919575],\n",
    "       [-1.4203405 ,  0.8983746 ]])\n",
    "p4 = np.array([[ 1.2999684 , -1.0184019 ],\n",
    "       [ 0.302412  , -0.14628246],\n",
    "       [-2.2321208 ,  2.45701   ],\n",
    "       [-0.76543415,  0.9794851 ],\n",
    "       [-2.483469  ,  2.8138683 ],\n",
    "       [-0.5529454 ,  0.7383251 ],\n",
    "       [-1.0397247 ,  1.1657188 ],\n",
    "       [ 0.48791945, -0.4144309 ],\n",
    "       [-0.5531086 ,  0.7455833 ],\n",
    "       [-1.9503564 ,  2.2771873 ],\n",
    "       [ 0.11591991,  0.04245187],\n",
    "       [-0.10108346,  0.32727188],\n",
    "       [ 1.3019236 , -1.0425917 ],\n",
    "       [-1.9521222 ,  2.1308362 ],\n",
    "       [-2.0220902 ,  2.0503178 ],\n",
    "       [ 0.66444993, -0.4163615 ],\n",
    "       [-4.0514026 ,  4.4185004 ],\n",
    "       [-2.42929   ,  2.610626  ],\n",
    "       [-1.5444623 ,  1.6495777 ],\n",
    "       [-0.87637365,  1.0479659 ]])\n",
    "p5 = np.array([[-3.684291 ,  4.226165 ],\n",
    "       [-3.4298754,  3.8904073],\n",
    "       [-4.6021442,  4.902417 ],\n",
    "       [-4.867758 ,  5.4403343],\n",
    "       [-4.9466047,  5.800642 ],\n",
    "       [-3.6632683,  4.315364 ],\n",
    "       [-4.094542 ,  4.6687307],\n",
    "       [-1.7738253,  2.3605208],\n",
    "       [-2.4931495,  2.9982553],\n",
    "       [-5.4592533,  6.141738 ],\n",
    "       [-2.4794126,  2.9762235],\n",
    "       [-1.9761522,  2.305777 ],\n",
    "       [-2.9955099,  3.5300498],\n",
    "       [-4.1956825,  4.6662884],\n",
    "       [-3.3402123,  3.8599875],\n",
    "       [-2.4725065,  2.8076339],\n",
    "       [-4.437647 ,  5.302191 ],\n",
    "       [-4.1420946,  4.736328 ],\n",
    "       [-2.4322925,  3.0357833],\n",
    "       [-3.4101582,  3.8587825]])\n",
    "p6 = np.array([[-4.233863  ,  3.7813666 ],\n",
    "       [-1.6022581 ,  1.2509221 ],\n",
    "       [-3.7062836 ,  3.3190281 ],\n",
    "       [-4.1410913 ,  3.7958035 ],\n",
    "       [-3.1741126 ,  2.8784363 ],\n",
    "       [-1.8122883 ,  1.5302601 ],\n",
    "       [-3.6508923 ,  3.201008  ],\n",
    "       [-2.4756792 ,  1.9590744 ],\n",
    "       [-2.5117185 ,  2.1222913 ],\n",
    "       [-3.9538887 ,  3.6661747 ],\n",
    "       [-4.596003  ,  3.9455087 ],\n",
    "       [-2.9618855 ,  2.4459069 ],\n",
    "       [-1.5618628 ,  1.1708493 ],\n",
    "       [-3.517534  ,  3.2123692 ],\n",
    "       [-3.7762914 ,  3.3270233 ],\n",
    "       [-0.98137105,  0.5727222 ],\n",
    "       [-4.3943396 ,  4.0746307 ],\n",
    "       [-4.2565136 ,  3.8912156 ],\n",
    "       [-3.6053953 ,  3.129113  ],\n",
    "       [-2.7658763 ,  2.4037802 ]])"
   ]
  },
  {
   "cell_type": "code",
   "execution_count": null,
   "metadata": {
    "colab": {
     "base_uri": "https://localhost:8080/",
     "height": 357
    },
    "colab_type": "code",
    "id": "NZGjFnPG7Cti",
    "outputId": "bd027e38-3651-4e2e-b484-9ad7584e5588"
   },
   "outputs": [],
   "source": [
    "# Average over all probabilites\n",
    "\n",
    "np.mean([p1, p2, p3, p4, p5, p6], axis=0)"
   ]
  },
  {
   "cell_type": "code",
   "execution_count": null,
   "metadata": {
    "colab": {
     "base_uri": "https://localhost:8080/",
     "height": 357
    },
    "colab_type": "code",
    "id": "wOlFmVXl7Gp_",
    "outputId": "b7f7d870-34fd-4cfc-ec44-9cc5af19263e"
   },
   "outputs": [],
   "source": [
    "# Average for the three runs that were not degenerate \n",
    "# i.e. predicted not covid at least once\n",
    "\n",
    "np.mean([p1, p2, p4], axis=0)"
   ]
  },
  {
   "cell_type": "code",
   "execution_count": null,
   "metadata": {
    "colab": {},
    "colab_type": "code",
    "id": "StzSXDZG9Qbx"
   },
   "outputs": [],
   "source": []
  }
 ],
 "metadata": {
  "accelerator": "GPU",
  "colab": {
   "collapsed_sections": [],
   "name": "CPSC340_Q2_chexnet_transfer_learning_Convolutions_Against_Covid.ipynb",
   "provenance": [],
   "toc_visible": true
  },
  "kernelspec": {
   "display_name": "Python 3",
   "language": "python",
   "name": "python3"
  },
  "language_info": {
   "codemirror_mode": {
    "name": "ipython",
    "version": 3
   },
   "file_extension": ".py",
   "mimetype": "text/x-python",
   "name": "python",
   "nbconvert_exporter": "python",
   "pygments_lexer": "ipython3",
   "version": "3.6.13"
  },
  "widgets": {
   "application/vnd.jupyter.widget-state+json": {
    "16b39531506b4baca4af76942add4c57": {
     "model_module": "@jupyter-widgets/controls",
     "model_name": "HBoxModel",
     "state": {
      "_dom_classes": [],
      "_model_module": "@jupyter-widgets/controls",
      "_model_module_version": "1.5.0",
      "_model_name": "HBoxModel",
      "_view_count": null,
      "_view_module": "@jupyter-widgets/controls",
      "_view_module_version": "1.5.0",
      "_view_name": "HBoxView",
      "box_style": "",
      "children": [
       "IPY_MODEL_78fb6c2d314741e5b90ab71a2bccf9bd",
       "IPY_MODEL_9c17b32a1d16404b909d6c2e0f37bdfd"
      ],
      "layout": "IPY_MODEL_2433a718b45149b09953bb1b4527476a"
     }
    },
    "2433a718b45149b09953bb1b4527476a": {
     "model_module": "@jupyter-widgets/base",
     "model_name": "LayoutModel",
     "state": {
      "_model_module": "@jupyter-widgets/base",
      "_model_module_version": "1.2.0",
      "_model_name": "LayoutModel",
      "_view_count": null,
      "_view_module": "@jupyter-widgets/base",
      "_view_module_version": "1.2.0",
      "_view_name": "LayoutView",
      "align_content": null,
      "align_items": null,
      "align_self": null,
      "border": null,
      "bottom": null,
      "display": null,
      "flex": null,
      "flex_flow": null,
      "grid_area": null,
      "grid_auto_columns": null,
      "grid_auto_flow": null,
      "grid_auto_rows": null,
      "grid_column": null,
      "grid_gap": null,
      "grid_row": null,
      "grid_template_areas": null,
      "grid_template_columns": null,
      "grid_template_rows": null,
      "height": null,
      "justify_content": null,
      "justify_items": null,
      "left": null,
      "margin": null,
      "max_height": null,
      "max_width": null,
      "min_height": null,
      "min_width": null,
      "object_fit": null,
      "object_position": null,
      "order": null,
      "overflow": null,
      "overflow_x": null,
      "overflow_y": null,
      "padding": null,
      "right": null,
      "top": null,
      "visibility": null,
      "width": null
     }
    },
    "3a5e6e176b0b4e7585f8cb880e812db5": {
     "model_module": "@jupyter-widgets/controls",
     "model_name": "DescriptionStyleModel",
     "state": {
      "_model_module": "@jupyter-widgets/controls",
      "_model_module_version": "1.5.0",
      "_model_name": "DescriptionStyleModel",
      "_view_count": null,
      "_view_module": "@jupyter-widgets/base",
      "_view_module_version": "1.2.0",
      "_view_name": "StyleView",
      "description_width": ""
     }
    },
    "78fb6c2d314741e5b90ab71a2bccf9bd": {
     "model_module": "@jupyter-widgets/controls",
     "model_name": "IntProgressModel",
     "state": {
      "_dom_classes": [],
      "_model_module": "@jupyter-widgets/controls",
      "_model_module_version": "1.5.0",
      "_model_name": "IntProgressModel",
      "_view_count": null,
      "_view_module": "@jupyter-widgets/controls",
      "_view_module_version": "1.5.0",
      "_view_name": "ProgressView",
      "bar_style": "success",
      "description": "100%",
      "description_tooltip": null,
      "layout": "IPY_MODEL_b21aab44cbf346deb28150fe225d8f3e",
      "max": 32342954,
      "min": 0,
      "orientation": "horizontal",
      "style": "IPY_MODEL_a6dc4897946a43e0bfe13e8dd13d2b28",
      "value": 32342954
     }
    },
    "9c17b32a1d16404b909d6c2e0f37bdfd": {
     "model_module": "@jupyter-widgets/controls",
     "model_name": "HTMLModel",
     "state": {
      "_dom_classes": [],
      "_model_module": "@jupyter-widgets/controls",
      "_model_module_version": "1.5.0",
      "_model_name": "HTMLModel",
      "_view_count": null,
      "_view_module": "@jupyter-widgets/controls",
      "_view_module_version": "1.5.0",
      "_view_name": "HTMLView",
      "description": "",
      "description_tooltip": null,
      "layout": "IPY_MODEL_e8001637f8264febbfb2bd74a15cb0dc",
      "placeholder": "​",
      "style": "IPY_MODEL_3a5e6e176b0b4e7585f8cb880e812db5",
      "value": " 30.8M/30.8M [00:00&lt;00:00, 133MB/s]"
     }
    },
    "a6dc4897946a43e0bfe13e8dd13d2b28": {
     "model_module": "@jupyter-widgets/controls",
     "model_name": "ProgressStyleModel",
     "state": {
      "_model_module": "@jupyter-widgets/controls",
      "_model_module_version": "1.5.0",
      "_model_name": "ProgressStyleModel",
      "_view_count": null,
      "_view_module": "@jupyter-widgets/base",
      "_view_module_version": "1.2.0",
      "_view_name": "StyleView",
      "bar_color": null,
      "description_width": "initial"
     }
    },
    "b21aab44cbf346deb28150fe225d8f3e": {
     "model_module": "@jupyter-widgets/base",
     "model_name": "LayoutModel",
     "state": {
      "_model_module": "@jupyter-widgets/base",
      "_model_module_version": "1.2.0",
      "_model_name": "LayoutModel",
      "_view_count": null,
      "_view_module": "@jupyter-widgets/base",
      "_view_module_version": "1.2.0",
      "_view_name": "LayoutView",
      "align_content": null,
      "align_items": null,
      "align_self": null,
      "border": null,
      "bottom": null,
      "display": null,
      "flex": null,
      "flex_flow": null,
      "grid_area": null,
      "grid_auto_columns": null,
      "grid_auto_flow": null,
      "grid_auto_rows": null,
      "grid_column": null,
      "grid_gap": null,
      "grid_row": null,
      "grid_template_areas": null,
      "grid_template_columns": null,
      "grid_template_rows": null,
      "height": null,
      "justify_content": null,
      "justify_items": null,
      "left": null,
      "margin": null,
      "max_height": null,
      "max_width": null,
      "min_height": null,
      "min_width": null,
      "object_fit": null,
      "object_position": null,
      "order": null,
      "overflow": null,
      "overflow_x": null,
      "overflow_y": null,
      "padding": null,
      "right": null,
      "top": null,
      "visibility": null,
      "width": null
     }
    },
    "e8001637f8264febbfb2bd74a15cb0dc": {
     "model_module": "@jupyter-widgets/base",
     "model_name": "LayoutModel",
     "state": {
      "_model_module": "@jupyter-widgets/base",
      "_model_module_version": "1.2.0",
      "_model_name": "LayoutModel",
      "_view_count": null,
      "_view_module": "@jupyter-widgets/base",
      "_view_module_version": "1.2.0",
      "_view_name": "LayoutView",
      "align_content": null,
      "align_items": null,
      "align_self": null,
      "border": null,
      "bottom": null,
      "display": null,
      "flex": null,
      "flex_flow": null,
      "grid_area": null,
      "grid_auto_columns": null,
      "grid_auto_flow": null,
      "grid_auto_rows": null,
      "grid_column": null,
      "grid_gap": null,
      "grid_row": null,
      "grid_template_areas": null,
      "grid_template_columns": null,
      "grid_template_rows": null,
      "height": null,
      "justify_content": null,
      "justify_items": null,
      "left": null,
      "margin": null,
      "max_height": null,
      "max_width": null,
      "min_height": null,
      "min_width": null,
      "object_fit": null,
      "object_position": null,
      "order": null,
      "overflow": null,
      "overflow_x": null,
      "overflow_y": null,
      "padding": null,
      "right": null,
      "top": null,
      "visibility": null,
      "width": null
     }
    }
   }
  }
 },
 "nbformat": 4,
 "nbformat_minor": 1
}
